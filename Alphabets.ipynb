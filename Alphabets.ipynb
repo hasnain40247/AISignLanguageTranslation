{
 "cells": [
  {
   "cell_type": "code",
   "execution_count": 6,
   "metadata": {},
   "outputs": [],
   "source": [
    "project = 'C:\\\\Users\\\\hnsik\\\\Pyth\\\\CSE1014\\\\Tensorflow\\\\workspace'\n",
    "script = 'C:\\\\Users\\\\hnsik\\\\Pyth\\\\CSE1014\\\\Tensorflow\\\\scripts'\n",
    "apimodel = 'C:\\\\Users\\\\hnsik\\\\Pyth\\\\CSE1014\\\\Tensorflow\\\\models'\n",
    "annotation = project+'\\\\annotations'\n",
    "images = project+'\\\\images'\n",
    "model = project+'\\\\models'\n",
    "premodel = project+'\\\\pre-trained-models'\n",
    "config = model+'\\\\my_ssd_mobnet\\\\pipeline.config'\n",
    "check = model+'\\\\my_ssd_mobnet\\\\'"
   ]
  },
  {
   "cell_type": "code",
   "execution_count": 2,
   "metadata": {},
   "outputs": [],
   "source": [
    "labels = [{'name':'A', 'id':1},\n",
    "          {'name':'B', 'id':2},\n",
    "          {'name':'C', 'id':3},\n",
    "          {'name':'D', 'id':4},\n",
    "          {'name':'E', 'id':5},\n",
    "          {'name':'F', 'id':6},\n",
    "          {'name':'G', 'id':7},\n",
    "          {'name':'H', 'id':8},\n",
    "          {'name':'I', 'id':9},\n",
    "          {'name':'J', 'id':10},\n",
    "          {'name':'K', 'id':11},\n",
    "          {'name':'L', 'id':12},\n",
    "          {'name':'M', 'id':13},\n",
    "          {'name':'N', 'id':14},\n",
    "          {'name':'O', 'id':15},\n",
    "          {'name':'P', 'id':16},\n",
    "          {'name':'Q', 'id':17},\n",
    "          {'name':'R', 'id':18},\n",
    "          {'name':'S', 'id':19},\n",
    "          {'name':'T', 'id':20},\n",
    "          {'name':'U', 'id':21},\n",
    "          {'name':'V', 'id':22},\n",
    "          {'name':'W', 'id':23},\n",
    "          {'name':'X', 'id':24},\n",
    "          {'name':'Y', 'id':25},\n",
    "         \n",
    "          \n",
    "         ]\n",
    "\n",
    "#write into annotation folder in a txt file\n",
    "with open(annotation + '\\label_map.pbtxt', 'w') as f:\n",
    "    for label in labels:\n",
    "        f.write('item { \\n')\n",
    "        f.write('\\tname:\\'{}\\'\\n'.format(label['name']))\n",
    "        f.write('\\tid:{}\\n'.format(label['id']))\n",
    "        f.write('}\\n')"
   ]
  },
  {
   "cell_type": "code",
   "execution_count": 3,
   "metadata": {},
   "outputs": [
    {
     "name": "stdout",
     "output_type": "stream",
     "text": [
      "Successfully created the TFRecord file: C:\\Users\\hnsik\\Pyth\\CSE1014\\Tensorflow\\workspace\\annotations\\train.record\n",
      "Successfully created the TFRecord file: C:\\Users\\hnsik\\Pyth\\CSE1014\\Tensorflow\\workspace\\annotations\\test.record\n"
     ]
    }
   ],
   "source": [
    "#Creating records\n",
    "!python {script + '\\\\generate_tfrecord.py'} -x {images + '\\\\train'} -l {annotation + '\\\\label_map.pbtxt'} -o {annotation + '\\\\train.record'}\n",
    "!python {script + '\\\\generate_tfrecord.py'} -x {images + '\\\\test'} -l {annotation + '\\\\label_map.pbtxt'} -o {annotation + '\\\\test.record'}"
   ]
  },
  {
   "cell_type": "code",
   "execution_count": 3,
   "metadata": {},
   "outputs": [
    {
     "data": {
      "text/plain": [
       "[PhysicalDevice(name='/physical_device:GPU:0', device_type='GPU')]"
      ]
     },
     "execution_count": 3,
     "metadata": {},
     "output_type": "execute_result"
    }
   ],
   "source": [
    "import tensorflow as tf\n",
    "\n",
    "tf.config.list_physical_devices('GPU')"
   ]
  },
  {
   "cell_type": "code",
   "execution_count": 5,
   "metadata": {
    "scrolled": true
   },
   "outputs": [
    {
     "name": "stderr",
     "output_type": "stream",
     "text": [
      "Cloning into 'models'...\n",
      "Updating files:  26% (652/2445)\n",
      "Updating files:  27% (661/2445)\n",
      "Updating files:  28% (685/2445)\n",
      "Updating files:  29% (710/2445)\n",
      "Updating files:  30% (734/2445)\n",
      "Updating files:  31% (758/2445)\n",
      "Updating files:  32% (783/2445)\n",
      "Updating files:  33% (807/2445)\n",
      "Updating files:  34% (832/2445)\n",
      "Updating files:  35% (856/2445)\n",
      "Updating files:  36% (881/2445)\n",
      "Updating files:  37% (905/2445)\n",
      "Updating files:  38% (930/2445)\n",
      "Updating files:  39% (954/2445)\n",
      "Updating files:  40% (978/2445)\n",
      "Updating files:  41% (1003/2445)\n",
      "Updating files:  42% (1027/2445)\n",
      "Updating files:  43% (1052/2445)\n",
      "Updating files:  44% (1076/2445)\n",
      "Updating files:  45% (1101/2445)\n",
      "Updating files:  46% (1125/2445)\n",
      "Updating files:  47% (1150/2445)\n",
      "Updating files:  48% (1174/2445)\n",
      "Updating files:  49% (1199/2445)\n",
      "Updating files:  50% (1223/2445)\n",
      "Updating files:  50% (1224/2445)\n",
      "Updating files:  51% (1247/2445)\n",
      "Updating files:  52% (1272/2445)\n",
      "Updating files:  53% (1296/2445)\n",
      "Updating files:  54% (1321/2445)\n",
      "Updating files:  55% (1345/2445)\n",
      "Updating files:  56% (1370/2445)\n",
      "Updating files:  57% (1394/2445)\n",
      "Updating files:  58% (1419/2445)\n",
      "Updating files:  59% (1443/2445)\n",
      "Updating files:  60% (1467/2445)\n",
      "Updating files:  61% (1492/2445)\n",
      "Updating files:  62% (1516/2445)\n",
      "Updating files:  63% (1541/2445)\n",
      "Updating files:  64% (1565/2445)\n",
      "Updating files:  65% (1590/2445)\n",
      "Updating files:  66% (1614/2445)\n",
      "Updating files:  67% (1639/2445)\n",
      "Updating files:  68% (1663/2445)\n",
      "Updating files:  69% (1688/2445)\n",
      "Updating files:  70% (1712/2445)\n",
      "Updating files:  70% (1729/2445)\n",
      "Updating files:  71% (1736/2445)\n",
      "Updating files:  72% (1761/2445)\n",
      "Updating files:  73% (1785/2445)\n",
      "Updating files:  74% (1810/2445)\n",
      "Updating files:  75% (1834/2445)\n",
      "Updating files:  76% (1859/2445)\n",
      "Updating files:  77% (1883/2445)\n",
      "Updating files:  78% (1908/2445)\n",
      "Updating files:  79% (1932/2445)\n",
      "Updating files:  80% (1956/2445)\n",
      "Updating files:  81% (1981/2445)\n",
      "Updating files:  82% (2005/2445)\n",
      "Updating files:  83% (2030/2445)\n",
      "Updating files:  84% (2054/2445)\n",
      "Updating files:  85% (2079/2445)\n",
      "Updating files:  86% (2103/2445)\n",
      "Updating files:  87% (2128/2445)\n",
      "Updating files:  88% (2152/2445)\n",
      "Updating files:  89% (2177/2445)\n",
      "Updating files:  90% (2201/2445)\n",
      "Updating files:  91% (2225/2445)\n",
      "Updating files:  92% (2250/2445)\n",
      "Updating files:  93% (2274/2445)\n",
      "Updating files:  94% (2299/2445)\n",
      "Updating files:  94% (2310/2445)\n",
      "Updating files:  95% (2323/2445)\n",
      "Updating files:  96% (2348/2445)\n",
      "Updating files:  97% (2372/2445)\n",
      "Updating files:  98% (2397/2445)\n",
      "Updating files:  99% (2421/2445)\n",
      "Updating files: 100% (2445/2445)\n",
      "Updating files: 100% (2445/2445), done.\n"
     ]
    }
   ],
   "source": [
    "#downloading tf model garden\n",
    "!cd Tensorflow && git clone https://github.com/tensorflow/models"
   ]
  },
  {
   "cell_type": "code",
   "execution_count": 70,
   "metadata": {
    "scrolled": true
   },
   "outputs": [
    {
     "name": "stdout",
     "output_type": "stream",
     "text": [
      "ssd_mobilenet_v2_fpnlite_320x320_coco17_tpu-8/\n",
      "ssd_mobilenet_v2_fpnlite_320x320_coco17_tpu-8/checkpoint/\n",
      "ssd_mobilenet_v2_fpnlite_320x320_coco17_tpu-8/checkpoint/ckpt-0.data-00000-of-00001\n",
      "ssd_mobilenet_v2_fpnlite_320x320_coco17_tpu-8/checkpoint/checkpoint\n",
      "ssd_mobilenet_v2_fpnlite_320x320_coco17_tpu-8/checkpoint/ckpt-0.index\n",
      "ssd_mobilenet_v2_fpnlite_320x320_coco17_tpu-8/pipeline.config\n",
      "ssd_mobilenet_v2_fpnlite_320x320_coco17_tpu-8/saved_model/\n",
      "ssd_mobilenet_v2_fpnlite_320x320_coco17_tpu-8/saved_model/saved_model.pb\n",
      "ssd_mobilenet_v2_fpnlite_320x320_coco17_tpu-8/saved_model/variables/\n",
      "ssd_mobilenet_v2_fpnlite_320x320_coco17_tpu-8/saved_model/variables/variables.data-00000-of-00001\n",
      "ssd_mobilenet_v2_fpnlite_320x320_coco17_tpu-8/saved_model/variables/variables.index\n"
     ]
    }
   ],
   "source": [
    "!mv 'ssd_mobilenet_v2_fpnlite_320x320_coco17_tpu-8.tar.gz' {premodel}\n",
    "!cd {premodel} && tar -zxvf ssd_mobilenet_v2_fpnlite_320x320_coco17_tpu-8.tar.gz"
   ]
  },
  {
   "cell_type": "code",
   "execution_count": 36,
   "metadata": {
    "scrolled": true
   },
   "outputs": [
    {
     "name": "stdout",
     "output_type": "stream",
     "text": [
      "efficientdet_d6_coco17_tpu-32/\n",
      "efficientdet_d6_coco17_tpu-32/checkpoint/\n",
      "efficientdet_d6_coco17_tpu-32/checkpoint/ckpt-0.data-00000-of-00001\n",
      "efficientdet_d6_coco17_tpu-32/checkpoint/checkpoint\n",
      "efficientdet_d6_coco17_tpu-32/checkpoint/ckpt-0.index\n",
      "efficientdet_d6_coco17_tpu-32/pipeline.config\n",
      "efficientdet_d6_coco17_tpu-32/saved_model/\n",
      "efficientdet_d6_coco17_tpu-32/saved_model/saved_model.pb\n",
      "efficientdet_d6_coco17_tpu-32/saved_model/assets/\n",
      "efficientdet_d6_coco17_tpu-32/saved_model/variables/\n",
      "efficientdet_d6_coco17_tpu-32/saved_model/variables/variables.data-00000-of-00001\n",
      "efficientdet_d6_coco17_tpu-32/saved_model/variables/variables.index\n"
     ]
    }
   ],
   "source": [
    "!mv 'efficientdet_d1_coco17_tpu-32.tar.gz' {premodel}\n",
    "!cd {premodel} && tar -zxvf efficientdet_d1_coco17_tpu-32.tar.gz"
   ]
  },
  {
   "cell_type": "code",
   "execution_count": 67,
   "metadata": {
    "scrolled": true
   },
   "outputs": [
    {
     "name": "stdout",
     "output_type": "stream",
     "text": [
      "ssd_mobilenet_v2_320x320_coco17_tpu-8/\n",
      "ssd_mobilenet_v2_320x320_coco17_tpu-8/checkpoint/\n",
      "ssd_mobilenet_v2_320x320_coco17_tpu-8/checkpoint/ckpt-0.data-00000-of-00001\n",
      "ssd_mobilenet_v2_320x320_coco17_tpu-8/checkpoint/checkpoint\n",
      "ssd_mobilenet_v2_320x320_coco17_tpu-8/checkpoint/ckpt-0.index\n",
      "ssd_mobilenet_v2_320x320_coco17_tpu-8/pipeline.config\n",
      "ssd_mobilenet_v2_320x320_coco17_tpu-8/saved_model/\n",
      "ssd_mobilenet_v2_320x320_coco17_tpu-8/saved_model/saved_model.pb\n",
      "ssd_mobilenet_v2_320x320_coco17_tpu-8/saved_model/variables/\n",
      "ssd_mobilenet_v2_320x320_coco17_tpu-8/saved_model/variables/variables.data-00000-of-00001\n",
      "ssd_mobilenet_v2_320x320_coco17_tpu-8/saved_model/variables/variables.index\n"
     ]
    }
   ],
   "source": [
    "!mv 'ssd_mobilenet_v2_320x320_coco17_tpu-8.tar.gz' {premodel}\n",
    "!cd {premodel} && tar -zxvf ssd_mobilenet_v2_320x320_coco17_tpu-8.tar.gz"
   ]
  },
  {
   "cell_type": "code",
   "execution_count": 102,
   "metadata": {
    "scrolled": true
   },
   "outputs": [
    {
     "name": "stdout",
     "output_type": "stream",
     "text": [
      "ssd_mobilenet_v2_fpnlite_640x640_coco17_tpu-8/\n",
      "ssd_mobilenet_v2_fpnlite_640x640_coco17_tpu-8/checkpoint/\n",
      "ssd_mobilenet_v2_fpnlite_640x640_coco17_tpu-8/checkpoint/ckpt-0.data-00000-of-00001\n",
      "ssd_mobilenet_v2_fpnlite_640x640_coco17_tpu-8/checkpoint/checkpoint\n",
      "ssd_mobilenet_v2_fpnlite_640x640_coco17_tpu-8/checkpoint/ckpt-0.index\n",
      "ssd_mobilenet_v2_fpnlite_640x640_coco17_tpu-8/pipeline.config\n",
      "ssd_mobilenet_v2_fpnlite_640x640_coco17_tpu-8/saved_model/\n",
      "ssd_mobilenet_v2_fpnlite_640x640_coco17_tpu-8/saved_model/saved_model.pb\n",
      "ssd_mobilenet_v2_fpnlite_640x640_coco17_tpu-8/saved_model/variables/\n",
      "ssd_mobilenet_v2_fpnlite_640x640_coco17_tpu-8/saved_model/variables/variables.data-00000-of-00001\n",
      "ssd_mobilenet_v2_fpnlite_640x640_coco17_tpu-8/saved_model/variables/variables.index\n"
     ]
    }
   ],
   "source": [
    "!mv 'ssd_mobilenet_v2_fpnlite_640x640_coco17_tpu-8.tar.gz' {premodel}\n",
    "!cd {premodel} && tar -zxvf ssd_mobilenet_v2_fpnlite_640x640_coco17_tpu-8.tar.gz"
   ]
  },
  {
   "cell_type": "markdown",
   "metadata": {},
   "source": [
    "# ssd mobilenet v2 fpnlite 320x320"
   ]
  },
  {
   "cell_type": "code",
   "execution_count": 2,
   "metadata": {},
   "outputs": [],
   "source": [
    "projectmodel1 = 'my_ssd_mobnet' "
   ]
  },
  {
   "cell_type": "code",
   "execution_count": 72,
   "metadata": {},
   "outputs": [],
   "source": [
    "!mkdir {'Tensorflow\\workspace\\models\\\\'+projectmodel1}\n",
    "!cp {premodel+'/ssd_mobilenet_v2_fpnlite_320x320_coco17_tpu-8/pipeline.config'} {model+'/'+projectmodel1}"
   ]
  },
  {
   "cell_type": "markdown",
   "metadata": {},
   "source": [
    "# ssd mobilenet v2 fpnlite 640x640"
   ]
  },
  {
   "cell_type": "code",
   "execution_count": 103,
   "metadata": {},
   "outputs": [],
   "source": [
    "projectmodel9= 'my_ssd640'\n",
    "!mkdir {'Tensorflow\\workspace\\models\\\\'+projectmodel9}\n",
    "!cp {premodel+'/ssd_mobilenet_v2_fpnlite_640x640_coco17_tpu-8/pipeline.config'} {model+'/'+projectmodel9}\n"
   ]
  },
  {
   "cell_type": "markdown",
   "metadata": {},
   "source": [
    "# 5. Update Config For Transfer Learning"
   ]
  },
  {
   "cell_type": "code",
   "execution_count": 3,
   "metadata": {},
   "outputs": [],
   "source": [
    "import tensorflow as tf\n",
    "from object_detection.utils import config_util\n",
    "from object_detection.protos import pipeline_pb2\n",
    "from google.protobuf import text_format"
   ]
  },
  {
   "cell_type": "code",
   "execution_count": 5,
   "metadata": {},
   "outputs": [],
   "source": [
    "config_file = model+'/'+projectmodel1+'/pipeline.config'\n",
    "config = config_util.get_configs_from_pipeline_file(config_file)"
   ]
  },
  {
   "cell_type": "code",
   "execution_count": 6,
   "metadata": {},
   "outputs": [
    {
     "data": {
      "text/plain": [
       "{'model': ssd {\n",
       "   num_classes: 25\n",
       "   image_resizer {\n",
       "     fixed_shape_resizer {\n",
       "       height: 320\n",
       "       width: 320\n",
       "     }\n",
       "   }\n",
       "   feature_extractor {\n",
       "     type: \"ssd_mobilenet_v2_fpn_keras\"\n",
       "     depth_multiplier: 1.0\n",
       "     min_depth: 16\n",
       "     conv_hyperparams {\n",
       "       regularizer {\n",
       "         l2_regularizer {\n",
       "           weight: 4e-05\n",
       "         }\n",
       "       }\n",
       "       initializer {\n",
       "         random_normal_initializer {\n",
       "           mean: 0.0\n",
       "           stddev: 0.01\n",
       "         }\n",
       "       }\n",
       "       activation: RELU_6\n",
       "       batch_norm {\n",
       "         decay: 0.997\n",
       "         scale: true\n",
       "         epsilon: 0.001\n",
       "       }\n",
       "     }\n",
       "     use_depthwise: true\n",
       "     override_base_feature_extractor_hyperparams: true\n",
       "     fpn {\n",
       "       min_level: 3\n",
       "       max_level: 7\n",
       "       additional_layer_depth: 128\n",
       "     }\n",
       "   }\n",
       "   box_coder {\n",
       "     faster_rcnn_box_coder {\n",
       "       y_scale: 10.0\n",
       "       x_scale: 10.0\n",
       "       height_scale: 5.0\n",
       "       width_scale: 5.0\n",
       "     }\n",
       "   }\n",
       "   matcher {\n",
       "     argmax_matcher {\n",
       "       matched_threshold: 0.5\n",
       "       unmatched_threshold: 0.5\n",
       "       ignore_thresholds: false\n",
       "       negatives_lower_than_unmatched: true\n",
       "       force_match_for_each_row: true\n",
       "       use_matmul_gather: true\n",
       "     }\n",
       "   }\n",
       "   similarity_calculator {\n",
       "     iou_similarity {\n",
       "     }\n",
       "   }\n",
       "   box_predictor {\n",
       "     weight_shared_convolutional_box_predictor {\n",
       "       conv_hyperparams {\n",
       "         regularizer {\n",
       "           l2_regularizer {\n",
       "             weight: 4e-05\n",
       "           }\n",
       "         }\n",
       "         initializer {\n",
       "           random_normal_initializer {\n",
       "             mean: 0.0\n",
       "             stddev: 0.01\n",
       "           }\n",
       "         }\n",
       "         activation: RELU_6\n",
       "         batch_norm {\n",
       "           decay: 0.997\n",
       "           scale: true\n",
       "           epsilon: 0.001\n",
       "         }\n",
       "       }\n",
       "       depth: 128\n",
       "       num_layers_before_predictor: 4\n",
       "       kernel_size: 3\n",
       "       class_prediction_bias_init: -4.6\n",
       "       share_prediction_tower: true\n",
       "       use_depthwise: true\n",
       "     }\n",
       "   }\n",
       "   anchor_generator {\n",
       "     multiscale_anchor_generator {\n",
       "       min_level: 3\n",
       "       max_level: 7\n",
       "       anchor_scale: 4.0\n",
       "       aspect_ratios: 1.0\n",
       "       aspect_ratios: 2.0\n",
       "       aspect_ratios: 0.5\n",
       "       scales_per_octave: 2\n",
       "     }\n",
       "   }\n",
       "   post_processing {\n",
       "     batch_non_max_suppression {\n",
       "       score_threshold: 1e-08\n",
       "       iou_threshold: 0.6\n",
       "       max_detections_per_class: 100\n",
       "       max_total_detections: 100\n",
       "       use_static_shapes: false\n",
       "     }\n",
       "     score_converter: SIGMOID\n",
       "   }\n",
       "   normalize_loss_by_num_matches: true\n",
       "   loss {\n",
       "     localization_loss {\n",
       "       weighted_smooth_l1 {\n",
       "       }\n",
       "     }\n",
       "     classification_loss {\n",
       "       weighted_sigmoid_focal {\n",
       "         gamma: 2.0\n",
       "         alpha: 0.25\n",
       "       }\n",
       "     }\n",
       "     classification_weight: 1.0\n",
       "     localization_weight: 1.0\n",
       "   }\n",
       "   encode_background_as_zeros: true\n",
       "   normalize_loc_loss_by_codesize: true\n",
       "   inplace_batchnorm_update: true\n",
       "   freeze_batchnorm: false\n",
       " },\n",
       " 'train_config': batch_size: 4\n",
       " data_augmentation_options {\n",
       "   random_horizontal_flip {\n",
       "   }\n",
       " }\n",
       " data_augmentation_options {\n",
       "   random_crop_image {\n",
       "     min_object_covered: 0.0\n",
       "     min_aspect_ratio: 0.75\n",
       "     max_aspect_ratio: 3.0\n",
       "     min_area: 0.75\n",
       "     max_area: 1.0\n",
       "     overlap_thresh: 0.0\n",
       "   }\n",
       " }\n",
       " sync_replicas: true\n",
       " optimizer {\n",
       "   momentum_optimizer {\n",
       "     learning_rate {\n",
       "       cosine_decay_learning_rate {\n",
       "         learning_rate_base: 0.08\n",
       "         total_steps: 50000\n",
       "         warmup_learning_rate: 0.026666\n",
       "         warmup_steps: 1000\n",
       "       }\n",
       "     }\n",
       "     momentum_optimizer_value: 0.9\n",
       "   }\n",
       "   use_moving_average: false\n",
       " }\n",
       " fine_tune_checkpoint: \"C:\\\\Users\\\\hnsik\\\\Pyth\\\\CSE1014\\\\Tensorflow\\\\workspace\\\\pre-trained-models\\\\ssd_mobilenet_v2_fpnlite_320x320_coco17_tpu-8\\\\checkpoint\\\\ckpt-0\"\n",
       " num_steps: 50000\n",
       " startup_delay_steps: 0.0\n",
       " replicas_to_aggregate: 8\n",
       " max_number_of_boxes: 100\n",
       " unpad_groundtruth_tensors: false\n",
       " fine_tune_checkpoint_type: \"detection\"\n",
       " fine_tune_checkpoint_version: V2,\n",
       " 'train_input_config': label_map_path: \"C:\\\\Users\\\\hnsik\\\\Pyth\\\\CSE1014\\\\Tensorflow\\\\workspace\\\\annotations\\\\label_map.pbtxt\"\n",
       " tf_record_input_reader {\n",
       "   input_path: \"C:\\\\Users\\\\hnsik\\\\Pyth\\\\CSE1014\\\\Tensorflow\\\\workspace\\\\annotations\\\\train.record\"\n",
       " },\n",
       " 'eval_config': metrics_set: \"coco_detection_metrics\"\n",
       " use_moving_averages: false,\n",
       " 'eval_input_configs': [label_map_path: \"C:\\\\Users\\\\hnsik\\\\Pyth\\\\CSE1014\\\\Tensorflow\\\\workspace\\\\annotations\\\\label_map.pbtxt\"\n",
       " shuffle: false\n",
       " num_epochs: 1\n",
       " tf_record_input_reader {\n",
       "   input_path: \"C:\\\\Users\\\\hnsik\\\\Pyth\\\\CSE1014\\\\Tensorflow\\\\workspace\\\\annotations\\\\test.record\"\n",
       " }\n",
       " ],\n",
       " 'eval_input_config': label_map_path: \"C:\\\\Users\\\\hnsik\\\\Pyth\\\\CSE1014\\\\Tensorflow\\\\workspace\\\\annotations\\\\label_map.pbtxt\"\n",
       " shuffle: false\n",
       " num_epochs: 1\n",
       " tf_record_input_reader {\n",
       "   input_path: \"C:\\\\Users\\\\hnsik\\\\Pyth\\\\CSE1014\\\\Tensorflow\\\\workspace\\\\annotations\\\\test.record\"\n",
       " }}"
      ]
     },
     "execution_count": 6,
     "metadata": {},
     "output_type": "execute_result"
    }
   ],
   "source": [
    "config\n"
   ]
  },
  {
   "cell_type": "code",
   "execution_count": 83,
   "metadata": {},
   "outputs": [],
   "source": [
    "pipeline_config = pipeline_pb2.TrainEvalPipelineConfig()\n",
    "with tf.io.gfile.GFile(config_file, \"r\") as f:                                                                                                                                                                                                                     \n",
    "    proto_str = f.read()                                                                                                                                                                                                                                          \n",
    "    text_format.Merge(proto_str, pipeline_config)  "
   ]
  },
  {
   "cell_type": "code",
   "execution_count": 86,
   "metadata": {},
   "outputs": [],
   "source": [
    "pipeline_config.model.ssd.num_classes = 25\n",
    "pipeline_config.train_config.batch_size = 3\n",
    "pipeline_config.train_config.fine_tune_checkpoint = premodel+'\\\\ssd_mobilenet_v2_320x320_coco17_tpu-8\\\\checkpoint\\\\ckpt-0'\n",
    "pipeline_config.train_config.fine_tune_checkpoint_type = \"detection\"\n",
    "pipeline_config.train_input_reader.label_map_path= annotation + '\\\\label_map.pbtxt'\n",
    "pipeline_config.train_input_reader.tf_record_input_reader.input_path[:] = [annotation + '\\\\train.record']\n",
    "pipeline_config.eval_input_reader[0].label_map_path = annotation + '\\\\label_map.pbtxt'\n",
    "pipeline_config.eval_input_reader[0].tf_record_input_reader.input_path[:] = [annotation + '\\\\test.record']"
   ]
  },
  {
   "cell_type": "code",
   "execution_count": 87,
   "metadata": {},
   "outputs": [
    {
     "data": {
      "text/plain": [
       "model {\n",
       "  ssd {\n",
       "    num_classes: 25\n",
       "    image_resizer {\n",
       "      fixed_shape_resizer {\n",
       "        height: 300\n",
       "        width: 300\n",
       "      }\n",
       "    }\n",
       "    feature_extractor {\n",
       "      type: \"ssd_mobilenet_v2_keras\"\n",
       "      depth_multiplier: 1.0\n",
       "      min_depth: 16\n",
       "      conv_hyperparams {\n",
       "        regularizer {\n",
       "          l2_regularizer {\n",
       "            weight: 4e-05\n",
       "          }\n",
       "        }\n",
       "        initializer {\n",
       "          truncated_normal_initializer {\n",
       "            mean: 0.0\n",
       "            stddev: 0.03\n",
       "          }\n",
       "        }\n",
       "        activation: RELU_6\n",
       "        batch_norm {\n",
       "          decay: 0.97\n",
       "          center: true\n",
       "          scale: true\n",
       "          epsilon: 0.001\n",
       "          train: true\n",
       "        }\n",
       "      }\n",
       "      override_base_feature_extractor_hyperparams: true\n",
       "    }\n",
       "    box_coder {\n",
       "      faster_rcnn_box_coder {\n",
       "        y_scale: 10.0\n",
       "        x_scale: 10.0\n",
       "        height_scale: 5.0\n",
       "        width_scale: 5.0\n",
       "      }\n",
       "    }\n",
       "    matcher {\n",
       "      argmax_matcher {\n",
       "        matched_threshold: 0.5\n",
       "        unmatched_threshold: 0.5\n",
       "        ignore_thresholds: false\n",
       "        negatives_lower_than_unmatched: true\n",
       "        force_match_for_each_row: true\n",
       "        use_matmul_gather: true\n",
       "      }\n",
       "    }\n",
       "    similarity_calculator {\n",
       "      iou_similarity {\n",
       "      }\n",
       "    }\n",
       "    box_predictor {\n",
       "      convolutional_box_predictor {\n",
       "        conv_hyperparams {\n",
       "          regularizer {\n",
       "            l2_regularizer {\n",
       "              weight: 4e-05\n",
       "            }\n",
       "          }\n",
       "          initializer {\n",
       "            random_normal_initializer {\n",
       "              mean: 0.0\n",
       "              stddev: 0.01\n",
       "            }\n",
       "          }\n",
       "          activation: RELU_6\n",
       "          batch_norm {\n",
       "            decay: 0.97\n",
       "            center: true\n",
       "            scale: true\n",
       "            epsilon: 0.001\n",
       "            train: true\n",
       "          }\n",
       "        }\n",
       "        min_depth: 0\n",
       "        max_depth: 0\n",
       "        num_layers_before_predictor: 0\n",
       "        use_dropout: false\n",
       "        dropout_keep_probability: 0.8\n",
       "        kernel_size: 1\n",
       "        box_code_size: 4\n",
       "        apply_sigmoid_to_scores: false\n",
       "        class_prediction_bias_init: -4.6\n",
       "      }\n",
       "    }\n",
       "    anchor_generator {\n",
       "      ssd_anchor_generator {\n",
       "        num_layers: 6\n",
       "        min_scale: 0.2\n",
       "        max_scale: 0.95\n",
       "        aspect_ratios: 1.0\n",
       "        aspect_ratios: 2.0\n",
       "        aspect_ratios: 0.5\n",
       "        aspect_ratios: 3.0\n",
       "        aspect_ratios: 0.3333\n",
       "      }\n",
       "    }\n",
       "    post_processing {\n",
       "      batch_non_max_suppression {\n",
       "        score_threshold: 1e-08\n",
       "        iou_threshold: 0.6\n",
       "        max_detections_per_class: 100\n",
       "        max_total_detections: 100\n",
       "        use_static_shapes: false\n",
       "      }\n",
       "      score_converter: SIGMOID\n",
       "    }\n",
       "    normalize_loss_by_num_matches: true\n",
       "    loss {\n",
       "      localization_loss {\n",
       "        weighted_smooth_l1 {\n",
       "          delta: 1.0\n",
       "        }\n",
       "      }\n",
       "      classification_loss {\n",
       "        weighted_sigmoid_focal {\n",
       "          gamma: 2.0\n",
       "          alpha: 0.75\n",
       "        }\n",
       "      }\n",
       "      classification_weight: 1.0\n",
       "      localization_weight: 1.0\n",
       "    }\n",
       "    encode_background_as_zeros: true\n",
       "    normalize_loc_loss_by_codesize: true\n",
       "    inplace_batchnorm_update: true\n",
       "    freeze_batchnorm: false\n",
       "  }\n",
       "}\n",
       "train_config {\n",
       "  batch_size: 3\n",
       "  data_augmentation_options {\n",
       "    random_horizontal_flip {\n",
       "    }\n",
       "  }\n",
       "  data_augmentation_options {\n",
       "    ssd_random_crop {\n",
       "    }\n",
       "  }\n",
       "  sync_replicas: true\n",
       "  optimizer {\n",
       "    momentum_optimizer {\n",
       "      learning_rate {\n",
       "        cosine_decay_learning_rate {\n",
       "          learning_rate_base: 0.8\n",
       "          total_steps: 50000\n",
       "          warmup_learning_rate: 0.13333\n",
       "          warmup_steps: 2000\n",
       "        }\n",
       "      }\n",
       "      momentum_optimizer_value: 0.9\n",
       "    }\n",
       "    use_moving_average: false\n",
       "  }\n",
       "  fine_tune_checkpoint: \"C:\\\\Users\\\\hnsik\\\\Pyth\\\\CSE1014\\\\Tensorflow\\\\workspace\\\\pre-trained-models\\\\ssd_mobilenet_v2_320x320_coco17_tpu-8\\\\checkpoint\\\\ckpt-0\"\n",
       "  num_steps: 50000\n",
       "  startup_delay_steps: 0.0\n",
       "  replicas_to_aggregate: 8\n",
       "  max_number_of_boxes: 100\n",
       "  unpad_groundtruth_tensors: false\n",
       "  fine_tune_checkpoint_type: \"detection\"\n",
       "  fine_tune_checkpoint_version: V2\n",
       "}\n",
       "train_input_reader {\n",
       "  label_map_path: \"C:\\\\Users\\\\hnsik\\\\Pyth\\\\CSE1014\\\\Tensorflow\\\\workspace\\\\annotations\\\\label_map.pbtxt\"\n",
       "  tf_record_input_reader {\n",
       "    input_path: \"C:\\\\Users\\\\hnsik\\\\Pyth\\\\CSE1014\\\\Tensorflow\\\\workspace\\\\annotations\\\\train.record\"\n",
       "  }\n",
       "}\n",
       "eval_config {\n",
       "  metrics_set: \"coco_detection_metrics\"\n",
       "  use_moving_averages: false\n",
       "}\n",
       "eval_input_reader {\n",
       "  label_map_path: \"C:\\\\Users\\\\hnsik\\\\Pyth\\\\CSE1014\\\\Tensorflow\\\\workspace\\\\annotations\\\\label_map.pbtxt\"\n",
       "  shuffle: false\n",
       "  num_epochs: 1\n",
       "  tf_record_input_reader {\n",
       "    input_path: \"C:\\\\Users\\\\hnsik\\\\Pyth\\\\CSE1014\\\\Tensorflow\\\\workspace\\\\annotations\\\\test.record\"\n",
       "  }\n",
       "}"
      ]
     },
     "execution_count": 87,
     "metadata": {},
     "output_type": "execute_result"
    }
   ],
   "source": [
    "pipeline_config"
   ]
  },
  {
   "cell_type": "code",
   "execution_count": 88,
   "metadata": {},
   "outputs": [],
   "source": [
    "config_text = text_format.MessageToString(pipeline_config)                                                                                                                                                                                                        \n",
    "with tf.io.gfile.GFile(config_file, \"wb\") as f:                                                                                                                                                                                                                     \n",
    "    f.write(config_text)   "
   ]
  },
  {
   "cell_type": "markdown",
   "metadata": {},
   "source": [
    "# 6. Train the model"
   ]
  },
  {
   "cell_type": "code",
   "execution_count": 98,
   "metadata": {},
   "outputs": [],
   "source": [
    "import os"
   ]
  },
  {
   "cell_type": "code",
   "execution_count": 100,
   "metadata": {},
   "outputs": [],
   "source": [
    "os.environ['TF_CPP_MIN_LOG_LEVEL'] = '2'"
   ]
  },
  {
   "cell_type": "code",
   "execution_count": 66,
   "metadata": {},
   "outputs": [
    {
     "name": "stdout",
     "output_type": "stream",
     "text": [
      "python C:\\Users\\hnsik\\Pyth\\CSE1014\\Tensorflow\\models\\research\\object_detection\\model_main_tf2.py --model_dir=C:\\Users\\hnsik\\Pyth\\CSE1014\\Tensorflow\\workspace\\models\\my_ssd_resnet --pipeline_config_path=C:\\Users\\hnsik\\Pyth\\CSE1014\\Tensorflow\\workspace\\models\\my_ssd_resnet\\pipeline.config --num_train_steps=5000\n"
     ]
    }
   ],
   "source": [
    "print(\"\"\"python {}\\\\research\\\\object_detection\\\\model_main_tf2.py --model_dir={}\\\\{} --pipeline_config_path={}\\\\{}\\\\pipeline.config --num_train_steps=5000\"\"\".format(apimodel, model,projectmodel10,model,projectmodel10))"
   ]
  },
  {
   "cell_type": "code",
   "execution_count": 135,
   "metadata": {},
   "outputs": [
    {
     "ename": "SyntaxError",
     "evalue": "invalid syntax (<ipython-input-135-89ccfaa7a2e2>, line 1)",
     "output_type": "error",
     "traceback": [
      "\u001b[1;36m  File \u001b[1;32m\"<ipython-input-135-89ccfaa7a2e2>\"\u001b[1;36m, line \u001b[1;32m1\u001b[0m\n\u001b[1;33m    python Tensorflow/models/research/object_detection/model_main_tf2.py --model_dir=Tensorflow/workspace/models/my_ssd_resnet --pipeline_config_path=Tensorflow/workspace/models/my_ssd_resnet/pipeline.config --num_train_steps=5000\u001b[0m\n\u001b[1;37m           ^\u001b[0m\n\u001b[1;31mSyntaxError\u001b[0m\u001b[1;31m:\u001b[0m invalid syntax\n"
     ]
    }
   ],
   "source": [
    "python Tensorflow/models/research/object_detection/model_main_tf2.py --model_dir=Tensorflow/workspace/models/my_ssd_resnet --pipeline_config_path=Tensorflow/workspace/models/my_ssd_resnet/pipeline.config --num_train_steps=5000"
   ]
  },
  {
   "cell_type": "markdown",
   "metadata": {},
   "source": [
    "# 7. Load Train Model From Checkpoint"
   ]
  },
  {
   "cell_type": "code",
   "execution_count": 4,
   "metadata": {},
   "outputs": [],
   "source": [
    "import os\n",
    "from object_detection.utils import label_map_util\n",
    "from object_detection.utils import visualization_utils as viz_utils\n",
    "from object_detection.builders import model_builder"
   ]
  },
  {
   "cell_type": "code",
   "execution_count": 7,
   "metadata": {},
   "outputs": [
    {
     "ename": "NameError",
     "evalue": "name 'config_file' is not defined",
     "output_type": "error",
     "traceback": [
      "\u001b[1;31m---------------------------------------------------------------------------\u001b[0m",
      "\u001b[1;31mNameError\u001b[0m                                 Traceback (most recent call last)",
      "\u001b[1;32m<ipython-input-7-739298122e4a>\u001b[0m in \u001b[0;36m<module>\u001b[1;34m\u001b[0m\n\u001b[1;32m----> 1\u001b[1;33m \u001b[0mconfig_file\u001b[0m\u001b[1;33m\u001b[0m\u001b[1;33m\u001b[0m\u001b[0m\n\u001b[0m",
      "\u001b[1;31mNameError\u001b[0m: name 'config_file' is not defined"
     ]
    }
   ],
   "source": [
    "config_file"
   ]
  },
  {
   "cell_type": "code",
   "execution_count": 12,
   "metadata": {},
   "outputs": [],
   "source": [
    "check=\"C:\\\\Users\\\\hnsik\\\\Pyth\\\\CSE1014\\\\Tensorflow\\\\workspace\\\\models\\\\my_ssd640\\\\\""
   ]
  },
  {
   "cell_type": "code",
   "execution_count": 9,
   "metadata": {},
   "outputs": [],
   "source": [
    "# Load pipeline config and build a detection model\n",
    "configs = config_util.get_configs_from_pipeline_file(config_file)\n",
    "detection_model = model_builder.build(model_config=configs['model'], is_training=False)\n",
    "\n",
    "# Restore checkpoint\n",
    "ckpt = tf.compat.v2.train.Checkpoint(model=detection_model)\n",
    "ckpt.restore(os.path.join(check, 'ckpt-6')).expect_partial()\n",
    "\n",
    "@tf.function\n",
    "def detect_fn(image):\n",
    "    image, shapes = detection_model.preprocess(image)\n",
    "    prediction_dict = detection_model.predict(image, shapes)\n",
    "    detections = detection_model.postprocess(prediction_dict, shapes)\n",
    "    return detections"
   ]
  },
  {
   "cell_type": "code",
   "execution_count": 10,
   "metadata": {},
   "outputs": [
    {
     "data": {
      "text/plain": [
       "<object_detection.meta_architectures.ssd_meta_arch.SSDMetaArch at 0x2761bfb1550>"
      ]
     },
     "execution_count": 10,
     "metadata": {},
     "output_type": "execute_result"
    }
   ],
   "source": [
    "detection_model"
   ]
  },
  {
   "cell_type": "markdown",
   "metadata": {},
   "source": [
    "# 8. Detect in Real-Time"
   ]
  },
  {
   "cell_type": "code",
   "execution_count": 11,
   "metadata": {},
   "outputs": [],
   "source": [
    "import cv2 \n",
    "import numpy as np"
   ]
  },
  {
   "cell_type": "code",
   "execution_count": 12,
   "metadata": {},
   "outputs": [],
   "source": [
    "category_index = label_map_util.create_category_index_from_labelmap(annotation+'/label_map.pbtxt')"
   ]
  },
  {
   "cell_type": "code",
   "execution_count": 13,
   "metadata": {},
   "outputs": [
    {
     "data": {
      "text/plain": [
       "{1: {'id': 1, 'name': 'A'},\n",
       " 2: {'id': 2, 'name': 'B'},\n",
       " 3: {'id': 3, 'name': 'C'},\n",
       " 4: {'id': 4, 'name': 'D'},\n",
       " 5: {'id': 5, 'name': 'E'},\n",
       " 6: {'id': 6, 'name': 'F'},\n",
       " 7: {'id': 7, 'name': 'G'},\n",
       " 8: {'id': 8, 'name': 'H'},\n",
       " 9: {'id': 9, 'name': 'I'},\n",
       " 10: {'id': 10, 'name': 'J'},\n",
       " 11: {'id': 11, 'name': 'K'},\n",
       " 12: {'id': 12, 'name': 'L'},\n",
       " 13: {'id': 13, 'name': 'M'},\n",
       " 14: {'id': 14, 'name': 'N'},\n",
       " 15: {'id': 15, 'name': 'O'},\n",
       " 16: {'id': 16, 'name': 'P'},\n",
       " 17: {'id': 17, 'name': 'Q'},\n",
       " 18: {'id': 18, 'name': 'R'},\n",
       " 19: {'id': 19, 'name': 'S'},\n",
       " 20: {'id': 20, 'name': 'T'},\n",
       " 21: {'id': 21, 'name': 'U'},\n",
       " 22: {'id': 22, 'name': 'V'},\n",
       " 23: {'id': 23, 'name': 'W'},\n",
       " 24: {'id': 24, 'name': 'X'},\n",
       " 25: {'id': 25, 'name': 'Y'}}"
      ]
     },
     "execution_count": 13,
     "metadata": {},
     "output_type": "execute_result"
    }
   ],
   "source": [
    "category_index"
   ]
  },
  {
   "cell_type": "code",
   "execution_count": null,
   "metadata": {},
   "outputs": [],
   "source": [
    "cap.release()"
   ]
  },
  {
   "cell_type": "code",
   "execution_count": 14,
   "metadata": {},
   "outputs": [],
   "source": [
    "# Setup capture\n",
    "cap = cv2.VideoCapture(0)\n",
    "width = int(cap.get(cv2.CAP_PROP_FRAME_WIDTH))\n",
    "height = int(cap.get(cv2.CAP_PROP_FRAME_HEIGHT))"
   ]
  },
  {
   "cell_type": "code",
   "execution_count": null,
   "metadata": {},
   "outputs": [],
   "source": [
    "while True: \n",
    "    ret, frame = cap.read()\n",
    "    image_np = np.array(frame)\n",
    "    \n",
    "    input_tensor = tf.convert_to_tensor(np.expand_dims(image_np, 0), dtype=tf.float32)\n",
    "    detections = detect_fn(input_tensor)\n",
    "    \n",
    "    num_detections = int(detections.pop('num_detections'))\n",
    "    detections = {key: value[0, :num_detections].numpy()\n",
    "                  for key, value in detections.items()}\n",
    "    detections['num_detections'] = num_detections\n",
    "\n",
    "    # detection_classes should be ints.\n",
    "    detections['detection_classes'] = detections['detection_classes'].astype(np.int64)\n",
    "\n",
    "    label_id_offset = 1\n",
    "    image_np_with_detections = image_np.copy()\n",
    "\n",
    "    viz_utils.visualize_boxes_and_labels_on_image_array(\n",
    "                image_np_with_detections,\n",
    "                detections['detection_boxes'],\n",
    "                detections['detection_classes']+label_id_offset,\n",
    "                detections['detection_scores'],\n",
    "                category_index,\n",
    "                use_normalized_coordinates=True,\n",
    "                max_boxes_to_draw=5,\n",
    "                min_score_thresh=.5,\n",
    "                agnostic_mode=False)\n",
    "\n",
    "    cv2.imshow('object detection',  cv2.resize(image_np_with_detections, (800, 600)))\n",
    "    \n",
    "    if cv2.waitKey(1) & 0xFF == ord('q'):\n",
    "        cap.release()\n",
    "        break"
   ]
  },
  {
   "cell_type": "code",
   "execution_count": 1,
   "metadata": {},
   "outputs": [
    {
     "ename": "NameError",
     "evalue": "name 'detect_fn' is not defined",
     "output_type": "error",
     "traceback": [
      "\u001b[1;31m---------------------------------------------------------------------------\u001b[0m",
      "\u001b[1;31mNameError\u001b[0m                                 Traceback (most recent call last)",
      "\u001b[1;32m<ipython-input-1-3f78138d26f6>\u001b[0m in \u001b[0;36m<module>\u001b[1;34m\u001b[0m\n\u001b[1;32m----> 1\u001b[1;33m \u001b[0mdetections\u001b[0m \u001b[1;33m=\u001b[0m \u001b[0mdetect_fn\u001b[0m\u001b[1;33m(\u001b[0m\u001b[0minput_tensor\u001b[0m\u001b[1;33m)\u001b[0m\u001b[1;33m\u001b[0m\u001b[1;33m\u001b[0m\u001b[0m\n\u001b[0m",
      "\u001b[1;31mNameError\u001b[0m: name 'detect_fn' is not defined"
     ]
    }
   ],
   "source": [
    "detections = detect_fn(input_tensor)"
   ]
  },
  {
   "cell_type": "code",
   "execution_count": 67,
   "metadata": {},
   "outputs": [],
   "source": [
    "from matplotlib import pyplot as plt"
   ]
  },
  {
   "cell_type": "code",
   "execution_count": null,
   "metadata": {},
   "outputs": [],
   "source": []
  }
 ],
 "metadata": {
  "kernelspec": {
   "display_name": "Python 3",
   "language": "python",
   "name": "python3"
  },
  "language_info": {
   "codemirror_mode": {
    "name": "ipython",
    "version": 3
   },
   "file_extension": ".py",
   "mimetype": "text/x-python",
   "name": "python",
   "nbconvert_exporter": "python",
   "pygments_lexer": "ipython3",
   "version": "3.8.5"
  }
 },
 "nbformat": 4,
 "nbformat_minor": 2
}
